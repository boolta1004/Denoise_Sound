{
 "cells": [
  {
   "cell_type": "raw",
   "id": "cd269a5e",
   "metadata": {},
   "source": [
    "http://intelligence.korea.ac.kr/members/wschoi/seminar/tutorial/mnist/pytorch/gan/GAN-%ED%8A%9C%ED%86%A0%EB%A6%AC%EC%96%BC/"
   ]
  },
  {
   "cell_type": "code",
   "execution_count": 87,
   "id": "7384462e",
   "metadata": {},
   "outputs": [],
   "source": [
    "import torch\n",
    "import numpy as np\n",
    "from torch.autograd import Variable\n",
    "from torch.utils.data import Dataset,DataLoader\n",
    "import numpy as np\n",
    "import matplotlib.pyplot as plt\n",
    "import os\n",
    "import librosa\n",
    "import pandas as pd\n",
    "import librosa.display\n",
    "import soundfile as sf"
   ]
  },
  {
   "cell_type": "code",
   "execution_count": 120,
   "id": "b19d7110",
   "metadata": {},
   "outputs": [],
   "source": [
    "def display_mfcc(mfcc, sr = 22050):\n",
    "#     mfcc = mfcc.numpy()\n",
    "    mfcc = mfcc.detach().numpy()\n",
    "    re_wav = librosa.feature.inverse.mfcc_to_audio(mfcc.T)\n",
    "    #wav 파형 출력\n",
    "    librosa.display.waveplot(re_wav, sr=sr, color='r')"
   ]
  },
  {
   "cell_type": "code",
   "execution_count": 75,
   "id": "d50c0ba3",
   "metadata": {},
   "outputs": [],
   "source": [
    "class DiabetesDataset(Dataset):\n",
    "    \n",
    "    def __init__(self):\n",
    "#         xy=np.loadtxt('./data/diabetes.csv.gz',delimiter=',',dtype=np.float32)\n",
    "        x = np.load('최유경_data.npy')\n",
    "        y = np.load('최유경_label.npy')\n",
    "        self.len=x.shape[0]\n",
    "        self.x_data=torch.from_numpy(x).float()\n",
    "        self.y_data=torch.from_numpy(y).view(-1, 1).float()\n",
    "        \n",
    "        \n",
    "    def __getitem__(self,index):\n",
    "        return self.x_data[index], self.y_data[index]\n",
    "    \n",
    "    def __len__(self):\n",
    "        return self.len\n",
    "    "
   ]
  },
  {
   "cell_type": "code",
   "execution_count": 130,
   "id": "d8315eea",
   "metadata": {},
   "outputs": [],
   "source": [
    "batch_size = 32\n",
    "\n",
    "dataset = DiabetesDataset()\n",
    "\n",
    "train_loader = DataLoader(dataset = dataset,\n",
    "                         batch_size=batch_size,\n",
    "                         shuffle=True,\n",
    "                         num_workers=0)"
   ]
  },
  {
   "cell_type": "raw",
   "id": "f9465a17",
   "metadata": {},
   "source": [
    "for i, x in enumerate(train_loader):\n",
    "    a ,b = x\n",
    "    print(a.shape)\n",
    "    print(b.shape)\n",
    "    if i == 2:\n",
    "        break"
   ]
  },
  {
   "cell_type": "code",
   "execution_count": 161,
   "id": "307c7a27",
   "metadata": {},
   "outputs": [
    {
     "name": "stdout",
     "output_type": "stream",
     "text": [
      "tensor([[-1.0578,  0.4078,  0.3358,  ...,  0.5736,  0.6317, -1.5327],\n",
      "        [-0.6375,  0.1965, -0.5149,  ...,  0.7544,  0.0209, -0.7433],\n",
      "        [-0.4237, -0.9078,  1.3690,  ...,  0.6219,  0.9369,  0.8793],\n",
      "        ...,\n",
      "        [-0.1579, -1.3580,  1.0610,  ..., -1.1687, -0.2155, -0.8411],\n",
      "        [ 0.6322, -1.3792,  0.3512,  ..., -1.0608, -1.0619, -0.2152],\n",
      "        [-0.1251,  0.5286, -0.0722,  ...,  0.7894,  0.6272,  1.5912]])\n",
      "torch.Size([32, 100])\n",
      "torch.Size([32, 45])\n"
     ]
    },
    {
     "data": {
      "image/png": "[encoded data removed]",
      "text/plain": [
       "<Figure size 432x288 with 1 Axes>"
      ]
     },
     "metadata": {
      "needs_background": "light"
     },
     "output_type": "display_data"
    }
   ],
   "source": [
    "d_noise  = 100\n",
    "d_hidden = 256\n",
    "\n",
    "def sample_z(batch_size = 32, d_noise=100):\n",
    "    return torch.randn(batch_size, d_noise)\n",
    "\n",
    "G = nn.Sequential(\n",
    "    nn.Linear(d_noise, d_hidden),\n",
    "    nn.ReLU(),\n",
    "    nn.Dropout(0.1),\n",
    "    nn.Linear(d_hidden,d_hidden),\n",
    "    nn.ReLU(),\n",
    "    nn.Dropout(0.1),\n",
    "    nn.Linear(d_hidden, 45),\n",
    "    nn.Tanh()\n",
    ")\n",
    "\n",
    "# 노이즈 생성하기\n",
    "z = sample_z()\n",
    "print(z)\n",
    "print(z.shape)\n",
    "# 가짜 이미지 생성하기\n",
    "img_fake = G(z).view(-1,45)\n",
    "\n",
    "print(img_fake.shape)\n",
    "display_mfcc(img_fake)\n"
   ]
  },
  {
   "cell_type": "code",
   "execution_count": 132,
   "id": "1506d32e",
   "metadata": {},
   "outputs": [
    {
     "name": "stdout",
     "output_type": "stream",
     "text": [
      "torch.Size([32, 45])\n",
      "torch.Size([32, 1])\n",
      "tensor([[0.5116, 0.5125, 0.5071, 0.5066, 0.5091]],\n",
      "       grad_fn=<TransposeBackward0>)\n"
     ]
    }
   ],
   "source": [
    "D = nn.Sequential(\n",
    "    nn.Linear(45, d_hidden),\n",
    "    nn.LeakyReLU(),\n",
    "    nn.Dropout(0.1),\n",
    "    nn.Linear(d_hidden, d_hidden),\n",
    "    nn.LeakyReLU(),\n",
    "    nn.Dropout(0.1),\n",
    "    nn.Linear(d_hidden, 1),\n",
    "    nn.Sigmoid()\n",
    ")\n",
    "\n",
    "print(G(z).shape)\n",
    "print(D(G(z)).shape)\n",
    "print(D(G(z)[0:5]).transpose(0,1))"
   ]
  },
  {
   "cell_type": "code",
   "execution_count": 172,
   "id": "fdbaf6c9",
   "metadata": {},
   "outputs": [],
   "source": [
    "criterion = nn.BCELoss()\n",
    "\n",
    "def run_epoch(generator, discriminator, _optimizer_g, _optimizer_d):\n",
    "    \n",
    "    generator.train()\n",
    "    discriminator.train()\n",
    "\n",
    "    for i, data in enumerate(train_loader):\n",
    "        img_batch, label_batch = data\n",
    "#         img_batch, label_batch = img_batch.to(device), label_batch.to(device) \n",
    "\n",
    "        # ================================================  #\n",
    "        # maximize V(discriminator,generator) = optimize discriminator (setting k to be 1)  #\n",
    "        # ================================================  #\n",
    "\n",
    "        # init optimizer\n",
    "        _optimizer_d.zero_grad()\n",
    "\n",
    "        p_real = discriminator(img_batch.view(-1, 45))\n",
    "        p_fake = discriminator(generator(sample_z(batch_size, d_noise)))\n",
    "\n",
    "        # ================================================  #\n",
    "        #    Loss computation (soley based on the paper)    #\n",
    "        # ================================================  #\n",
    "        loss_real = -1 * torch.log(p_real)   # -1 for gradient ascending\n",
    "        loss_fake = -1 * torch.log(1.-p_fake) # -1 for gradient ascending\n",
    "        if loss_real.size() != loss_fake.size():\n",
    "            continue\n",
    "        loss_d    = (loss_real + loss_fake).mean()\n",
    "        \n",
    "        # ================================================  #\n",
    "        #     Loss computation (based on Cross Entropy)     #\n",
    "        # ================================================  #\n",
    "        # loss_d = criterion(p_real, torch.ones_like(p_real).to(device)) + \\    #\n",
    "        #          criterion(p_fake, torch.zeros_like(p_real).to(device))       #\n",
    "        \n",
    "        # Update parameters\n",
    "        loss_d.backward()\n",
    "        _optimizer_d.step()\n",
    "\n",
    "        # ================================================  #\n",
    "        #        minimize V(discriminator,generator)        #\n",
    "        # ================================================  #\n",
    "\n",
    "        \n",
    "        \n",
    "        # init optimizer\n",
    "        _optimizer_g.zero_grad()\n",
    "        \n",
    "        \n",
    "\n",
    "        p_fake = discriminator(generator(sample_z(batch_size, d_noise)))\n",
    "                \n",
    "        # ================================================  #\n",
    "        #    Loss computation (soley based on the paper)    #\n",
    "        # ================================================  #\n",
    "        \n",
    "        # instead of: torch.log(1.-p_fake).mean() <- explained in Section 3\n",
    "        loss_g = -1 * torch.log(p_fake).mean() \n",
    "\n",
    "        # ================================================  #\n",
    "        #     Loss computation (based on Cross Entropy)     #\n",
    "        # ================================================  #\n",
    "        # loss_g = criterion(p_fake, torch.ones_like(p_fake).to(device)) #\n",
    "\n",
    "        loss_g.backward()\n",
    "       # Update parameters\n",
    "        _optimizer_g.step()\n",
    "        \n",
    "        \n",
    "#         if i%10==0:\n",
    "#             print(\"z\" , generator(sample_z(batch_size, d_noise)).shape)\n",
    "#             display_mfcc(generator(sample_z(batch_size, d_noise)))\n",
    "        \n",
    "          \n",
    "def evaluate_model(generator, discriminator):\n",
    "    \n",
    "    p_real, p_fake = 0.,0.\n",
    "    \n",
    "    generator.eval()\n",
    "    discriminator.eval()\n",
    "        \n",
    "    for img_batch, label_batch in train_loader:\n",
    "        \n",
    "#         img_batch, label_batch = img_batch.to(device), label_batch.to(device) \n",
    "        \n",
    "        with torch.autograd.no_grad():\n",
    "            p_real += (torch.sum(discriminator(img_batch.view(-1, 45))).item())/10000.\n",
    "            p_fake += (torch.sum(discriminator(generator(sample_z(batch_size, d_noise)))).item())/10000.\n",
    "            \n",
    "            \n",
    "    return p_real, p_fake"
   ]
  },
  {
   "cell_type": "code",
   "execution_count": 173,
   "id": "f13e7908",
   "metadata": {},
   "outputs": [
    {
     "name": "stdout",
     "output_type": "stream",
     "text": [
      "(epoch 1/200) p_real: 4.932600, p_g: 0.003618\n",
      "(epoch 2/200) p_real: 4.932600, p_g: 0.000528\n"
     ]
    }
   ],
   "source": [
    "def init_params(model):\n",
    "    for p in model.parameters():\n",
    "        if(p.dim() > 1):\n",
    "            nn.init.xavier_normal_(p)\n",
    "        else:\n",
    "            nn.init.uniform_(p, 0.1, 0.2)\n",
    "\n",
    "init_params(G)\n",
    "init_params(D)\n",
    "\n",
    "optimizer_g = optim.Adam(G.parameters(), lr = 0.0002)\n",
    "optimizer_d = optim.Adam(D.parameters(), lr = 0.0002)\n",
    "\n",
    "p_real_trace = []\n",
    "p_fake_trace = []\n",
    "\n",
    "for epoch in range(2):\n",
    "    \n",
    "    run_epoch(G, D, optimizer_g, optimizer_d)\n",
    "    p_real, p_fake = evaluate_model(G,D)\n",
    "    \n",
    "    p_real_trace.append(p_real)\n",
    "    p_fake_trace.append(p_fake) \n",
    "    \n",
    "#     display_mfcc(torch.Tensor(G(p_fake)))\n",
    "#     if((epoch+1)% 50 == 0):\n",
    "    print('(epoch %i/200) p_real: %f, p_g: %f' % (epoch+1, p_real, p_fake))\n",
    "#         imshow_grid(G(sample_z(16)).view(-1, 1, 28, 28))"
   ]
  },
  {
   "cell_type": "code",
   "execution_count": 174,
   "id": "bc7b557c",
   "metadata": {},
   "outputs": [
    {
     "data": {
      "image/png": "[encoded data removed]",
      "text/plain": [
       "<Figure size 432x288 with 1 Axes>"
      ]
     },
     "metadata": {
      "needs_background": "light"
     },
     "output_type": "display_data"
    }
   ],
   "source": [
    "plt.plot(p_fake_trace, label='D(x_generated)')\n",
    "plt.plot(p_real_trace, label='D(x_real)')\n",
    "plt.legend(bbox_to_anchor=(1.05, 1), loc=2, borderaxespad=0.)\n",
    "\n",
    "plt.show()"
   ]
  },
  {
   "cell_type": "code",
   "execution_count": null,
   "id": "e4c04f8b",
   "metadata": {},
   "outputs": [],
   "source": []
  }
 ],
 "metadata": {
  "kernelspec": {
   "display_name": "main",
   "language": "python",
   "name": "main"
  },
  "language_info": {
   "codemirror_mode": {
    "name": "ipython",
    "version": 3
   },
   "file_extension": ".py",
   "mimetype": "text/x-python",
   "name": "python",
   "nbconvert_exporter": "python",
   "pygments_lexer": "ipython3",
   "version": "3.7.10"
  }
 },
 "nbformat": 4,
 "nbformat_minor": 5
}
